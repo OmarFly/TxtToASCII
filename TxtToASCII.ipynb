{
  "nbformat": 4,
  "nbformat_minor": 0,
  "metadata": {
    "colab": {
      "provenance": []
    },
    "kernelspec": {
      "name": "python3",
      "display_name": "Python 3"
    },
    "language_info": {
      "name": "python"
    }
  },
  "cells": [
    {
      "cell_type": "code",
      "execution_count": 1,
      "metadata": {
        "colab": {
          "base_uri": "https://localhost:8080/"
        },
        "id": "71KIwF1IFr7y",
        "outputId": "fd3a0bdf-6d79-4f9e-cae6-b2e9c02b1d97"
      },
      "outputs": [
        {
          "output_type": "stream",
          "name": "stdout",
          "text": [
            "Ingresa la frase que deseas convertir a ASCII: ¿Te ha gustado el inicio de semestre?\n",
            "La frase en código ASCII es: 191 84 101 32 104 97 32 103 117 115 116 97 100 111 32 101 108 32 105 110 105 99 105 111 32 100 101 32 115 101 109 101 115 116 114 101 63\n"
          ]
        }
      ],
      "source": [
        "def frase_a_ascii(frase):\n",
        "    # Creamos una lista vacía para almacenar los valores ASCII\n",
        "    valores_ascii = []\n",
        "\n",
        "    # Recorremos cada carácter en la frase\n",
        "    for caracter in frase:\n",
        "        # Convertimos el carácter a su valor ASCII y lo agregamos a la lista\n",
        "        valores_ascii.append(ord(caracter))\n",
        "\n",
        "    # Convertimos la lista de valores ASCII a una cadena de texto separada por espacios\n",
        "    ascii_como_texto = ' '.join(map(str, valores_ascii))\n",
        "\n",
        "    # Devolvemos la cadena de texto\n",
        "    return ascii_como_texto\n",
        "\n",
        "# Pedimos al usuario que ingrese la frase\n",
        "frase = input(\"Ingresa la frase que deseas convertir a ASCII: \")\n",
        "\n",
        "# Llamamos a la función para convertir la frase y almacenamos el resultado\n",
        "resultado = frase_a_ascii(frase)\n",
        "\n",
        "# Mostramos el resultado\n",
        "print(\"La frase en código ASCII es:\", resultado)"
      ]
    }
  ]
}